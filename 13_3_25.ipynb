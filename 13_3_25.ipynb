{
  "nbformat": 4,
  "nbformat_minor": 0,
  "metadata": {
    "colab": {
      "provenance": [],
      "authorship_tag": "ABX9TyOYgm9pL+BeYOjNSQG23vJ/",
      "include_colab_link": true
    },
    "kernelspec": {
      "name": "python3",
      "display_name": "Python 3"
    },
    "language_info": {
      "name": "python"
    }
  },
  "cells": [
    {
      "cell_type": "markdown",
      "metadata": {
        "id": "view-in-github",
        "colab_type": "text"
      },
      "source": [
        "<a href=\"https://colab.research.google.com/github/kris0425821/python_list/blob/main/13_3_25.ipynb\" target=\"_parent\"><img src=\"https://colab.research.google.com/assets/colab-badge.svg\" alt=\"Open In Colab\"/></a>"
      ]
    },
    {
      "cell_type": "code",
      "execution_count": null,
      "metadata": {
        "id": "-nbSuf18-qM7"
      },
      "outputs": [],
      "source": [
        "from google.colab import userdata\n",
        "import google.generativeai as genai\n",
        "\n",
        "GOOGLE_API_KEY = userdata.get('GOOGLE_API_KEY')\n",
        "genai.configure(api_key=GOOGLE_API_KEY)"
      ]
    },
    {
      "cell_type": "code",
      "source": [
        "import pathlib\n",
        "import textwrap\n",
        "from IPython.display import display, Markdown\n",
        "def to_markdown(text):\n",
        "  text = text.replace('.',' *')\n",
        "  return Markdown(textwrap.indent(text,'> ', predicate=lambda line: True))"
      ],
      "metadata": {
        "id": "3oW81dQq-6xZ"
      },
      "execution_count": null,
      "outputs": []
    },
    {
      "cell_type": "code",
      "source": [
        "import PIL.Image\n",
        "import PIL.Image\n",
        "img = PIL.Image.open('image1.jpg')\n",
        "model = genai.GenerativeModel('gemini-1.5-flash')\n",
        "response = model.generate_content([\"Write a short, engaging blog post based on this picture.\\nIt should include a description of the meal in the photo and talk about my journey meal prepping.\", img],\n",
        "stream=True)\n",
        "response.resolve()"
      ],
      "metadata": {
        "id": "DYVwiAGSA3RS"
      },
      "execution_count": null,
      "outputs": []
    },
    {
      "cell_type": "code",
      "source": [
        "to_markdown(response.text)"
      ],
      "metadata": {
        "colab": {
          "base_uri": "https://localhost:8080/",
          "height": 341
        },
        "id": "BDtMu9lrCfEi",
        "outputId": "6503f28a-72d8-4f83-da18-3b554038c4ae"
      },
      "execution_count": null,
      "outputs": [
        {
          "output_type": "execute_result",
          "data": {
            "text/plain": [
              "<IPython.core.display.Markdown object>"
            ],
            "text/markdown": "> ## From Chaos to Calm: My Meal Prep Journey\n> \n> Let's be honest, adulting is hard *  Juggling work, social life, and everything in between leaves little time for anything, let alone cooking healthy meals *  For a long time, my lunch consisted of whatever sad desk-lunch I could grab *  Enter: meal prepping *  And the results? Pure bliss (and a healthier me!) *\n> \n> The image above perfectly captures my current meal prep victory *  Two gorgeous glass containers hold my perfectly portioned lunches for the week *  Each one is a delightful mix of fluffy white rice, tender pieces of teriyaki chicken, vibrant orange and red bell peppers, and a generous helping of steamed broccoli * It's colorful, it's healthy, and most importantly, it's ready to go!\n> \n> My journey hasn't been without its bumps * My first attempts were * * * well, let's just say less visually appealing *  I overcooked the chicken once, undercooked the veggies another *  I experimented with different containers, finding these glass ones were perfect for microwave heating and easy clean-up *  But with each attempt, I learned *  I learned the optimal cooking times, the best ways to chop my veggies, and how to portion everything evenly *\n> \n> Now, Sunday afternoons are dedicated to my meal prep ritual *  It’s a relaxing way to spend an hour or two, knowing that I've saved myself time and stress during the busy week ahead *  No more frantic searches for something healthy and quick – just delicious, nutritious meals ready to be enjoyed *  It's a small change with a big impact on my overall health and well-being *  Give it a try! You might surprise yourself at how easy and rewarding it can be *\n"
          },
          "metadata": {},
          "execution_count": 8
        }
      ]
    },
    {
      "cell_type": "code",
      "source": [
        "response = model.generate_content([\"Generate an accurate caption for this image.\", img])\n",
        "print(response.text)"
      ],
      "metadata": {
        "colab": {
          "base_uri": "https://localhost:8080/",
          "height": 401
        },
        "id": "NpbVeWneC8II",
        "outputId": "6dd96856-88c5-48bb-bbf0-85f00d5b22ed"
      },
      "execution_count": null,
      "outputs": [
        {
          "output_type": "stream",
          "name": "stdout",
          "text": [
            "Here are a few caption options for the image:\n",
            "\n",
            "**Option 1 (Simple & Descriptive):**\n",
            "\n",
            "> Healthy and delicious meal prep!  Chicken and broccoli with rice and carrots.\n",
            "\n",
            "**Option 2 (More Engaging):**\n",
            "\n",
            "> Lunch goals! These chicken and veggie bowls are packed with flavor and ready in minutes.  Perfect for busy weeknights. #mealprep #healthyfood #chickendinner\n",
            "\n",
            "**Option 3 (Focus on Convenience):**\n",
            "\n",
            "> Easy weeknight dinners, made easy. These prepped containers are a lifesaver! #mealprepping #healthylifestyle #convenientmeals\n",
            "\n",
            "**Option 4 (A Bit More Playful):**\n",
            "\n",
            "> My kind of takeout!  Homemade healthy goodness in a reusable container. #mealprepsunday #healthy eating #nomnom\n",
            "\n",
            "\n",
            "Choose the caption that best fits the overall tone and style you want to convey.\n",
            "\n"
          ]
        }
      ]
    },
    {
      "cell_type": "code",
      "source": [
        "from PIL import Image\n",
        "image_path=\"girl.jpg\"\n",
        "image=Image.open(image_path)\n",
        "image_response=model.generate_content([\"describe this image in detail\",image])\n",
        "print(response.text)"
      ],
      "metadata": {
        "colab": {
          "base_uri": "https://localhost:8080/",
          "height": 401
        },
        "id": "BlpwKJTODNhY",
        "outputId": "81e186a3-0367-4d98-fd38-a2aba8da180d"
      },
      "execution_count": null,
      "outputs": [
        {
          "output_type": "stream",
          "name": "stdout",
          "text": [
            "Here are a few caption options for the image:\n",
            "\n",
            "**Option 1 (Simple & Descriptive):**\n",
            "\n",
            "> Healthy and delicious meal prep!  Chicken and broccoli with rice and carrots.\n",
            "\n",
            "**Option 2 (More Engaging):**\n",
            "\n",
            "> Lunch goals! These chicken and veggie bowls are packed with flavor and ready in minutes.  Perfect for busy weeknights. #mealprep #healthyfood #chickendinner\n",
            "\n",
            "**Option 3 (Focus on Convenience):**\n",
            "\n",
            "> Easy weeknight dinners, made easy. These prepped containers are a lifesaver! #mealprepping #healthylifestyle #convenientmeals\n",
            "\n",
            "**Option 4 (A Bit More Playful):**\n",
            "\n",
            "> My kind of takeout!  Homemade healthy goodness in a reusable container. #mealprepsunday #healthy eating #nomnom\n",
            "\n",
            "\n",
            "Choose the caption that best fits the overall tone and style you want to convey.\n",
            "\n"
          ]
        }
      ]
    },
    {
      "cell_type": "code",
      "source": [
        "response=model.generate_content([\"what emotions can you detect in this image?\",image])\n",
        "print(response.text)"
      ],
      "metadata": {
        "id": "Koh8DOsoFEGZ",
        "colab": {
          "base_uri": "https://localhost:8080/",
          "height": 176
        },
        "outputId": "982e9790-49b9-4db7-c69e-22aa9f86b9b9"
      },
      "execution_count": null,
      "outputs": [
        {
          "output_type": "stream",
          "name": "stdout",
          "text": [
            "The woman in the image displays a combination of emotions, primarily:\n",
            "\n",
            "* **Positivity/Happiness:** Her smile is genuine and warm, suggesting happiness and contentment.\n",
            "* **Helpfulness/Friendliness:** The gesture of pointing suggests she's offering information or guidance, indicating a helpful and friendly demeanor.  Her overall posture and expression are inviting.\n",
            "* **Confidence:**  She appears self-assured and comfortable in front of the camera.\n",
            "\n",
            "There's no indication of negative emotions such as sadness, anger, or anxiety.  The overall feeling is one of pleasantness and engagement.\n",
            "\n"
          ]
        }
      ]
    },
    {
      "cell_type": "code",
      "source": [
        "image_path=\"logo1.jpg\"\n",
        "image=Image.open(image_path)\n",
        "response=model.generate_content([\"identify the brand or comspany associated with this logo\",image])\n",
        "print(response.text)"
      ],
      "metadata": {
        "colab": {
          "base_uri": "https://localhost:8080/",
          "height": 52
        },
        "id": "YDct27R4rfsA",
        "outputId": "7c7719ea-cfae-405c-b334-d71eb04eb9e4"
      },
      "execution_count": null,
      "outputs": [
        {
          "output_type": "stream",
          "name": "stdout",
          "text": [
            "That's the logo for **Amazon**.\n",
            "\n"
          ]
        }
      ]
    },
    {
      "cell_type": "code",
      "source": [
        "image_path=\"product.jpg\"\n",
        "image=Image.open(image_path)\n",
        "response=model.generate_content([\"identify the product in this image\",image])\n",
        "print(response.text)"
      ],
      "metadata": {
        "colab": {
          "base_uri": "https://localhost:8080/",
          "height": 72
        },
        "id": "Skl4y-EysMNm",
        "outputId": "b2a5e739-2328-4e12-96c3-3e3ae9bf67a1"
      },
      "execution_count": null,
      "outputs": [
        {
          "output_type": "stream",
          "name": "stdout",
          "text": [
            "That's a pair of black over-ear headphones.  The image doesn't show a brand logo or any other identifying marks, so it's impossible to identify the specific model.\n",
            "\n"
          ]
        }
      ]
    },
    {
      "cell_type": "code",
      "source": [
        "response=model.generate_content([\"suggest similar products to this one\",image])\n",
        "print(response.text)"
      ],
      "metadata": {
        "colab": {
          "base_uri": "https://localhost:8080/",
          "height": 679
        },
        "id": "v2ZHa0DktJ9F",
        "outputId": "8b6ef1d7-0175-4c6e-dc6a-345dd17dd5a5"
      },
      "execution_count": null,
      "outputs": [
        {
          "output_type": "stream",
          "name": "stdout",
          "text": [
            "Here are some similar products to the pictured black over-ear headphones, categorized for easier selection:\n",
            "\n",
            "**Similar Style & Features:**\n",
            "\n",
            "* **Sony WH-CH710N:**  These are known for their comfortable fit, decent noise cancellation, and long battery life.  They are a popular mid-range option.\n",
            "* **Audio-Technica ATH-M50x:**  While not noise-canceling, these are studio-quality headphones renowned for their accurate sound and durability.  They are a great option for audiophiles.\n",
            "* **JBL Tune 760NC:** These are another option offering noise cancellation and a comfortable fit at a reasonable price point.  Good for travel and everyday use.\n",
            "* **AKG K361:** Another studio-style headphone with a good balance of comfort and sound quality, though without noise cancellation.\n",
            "\n",
            "\n",
            "**If you want something more budget-friendly:**\n",
            "\n",
            "* **Anker Soundcore Life Q20:**  Excellent value for money, providing surprisingly good noise cancellation and long battery life.\n",
            "\n",
            "\n",
            "**If you prioritize noise cancellation:**\n",
            "\n",
            "* **Bose QuietComfort 45:** Known for industry-leading noise cancellation, comfortable design, and excellent sound quality (but at a higher price).\n",
            "* **Sony WH-1000XM5:**  Another top contender in the noise-canceling headphone market, offering exceptional performance.\n",
            "\n",
            "\n",
            "**If you want something smaller and more portable:**\n",
            "\n",
            "* **Sony WF-1000XM4:**  These are truly wireless earbuds with excellent noise cancellation, though the sound signature is slightly different from over-ear headphones.\n",
            "\n",
            "\n",
            "When choosing, consider these factors:\n",
            "\n",
            "* **Budget:** Prices vary widely.\n",
            "* **Noise cancellation:** Do you need it?\n",
            "* **Sound quality:** Are you an audiophile or casual listener?\n",
            "* **Comfort:**  Will you be wearing these for long periods?\n",
            "* **Portability:**  How important is it that they are easy to carry?\n",
            "\n",
            "\n",
            "To find the best match, I suggest checking reviews on sites like Amazon, Rtings, and What Hi-Fi?  These sites provide detailed comparisons and ratings to help you make an informed decision.\n",
            "\n"
          ]
        }
      ]
    },
    {
      "cell_type": "code",
      "source": [
        "image_path=\"invoice.jpg\"\n",
        "image=Image.open(image_path)\n",
        "response=model.generate_content([\"Extract the price from this image\",image])\n",
        "print(response.text)"
      ],
      "metadata": {
        "colab": {
          "base_uri": "https://localhost:8080/",
          "height": 34
        },
        "id": "IsW7DmT-tl8C",
        "outputId": "e09e74cc-575a-4bd7-cf45-012176fb349a"
      },
      "execution_count": null,
      "outputs": [
        {
          "output_type": "stream",
          "name": "stdout",
          "text": [
            "The price of each item is $10.00.  The subtotal is $100.00 and the grand total, including 10% tax, is also $100.00.\n"
          ]
        }
      ]
    },
    {
      "cell_type": "code",
      "source": [
        "image_path=\"bicycle.jpg\"\n",
        "image=Image.open(image_path)\n",
        "response=model.generate_content([\"identify the brand of this bicycle\",image])\n",
        "print(response.text)"
      ],
      "metadata": {
        "colab": {
          "base_uri": "https://localhost:8080/",
          "height": 52
        },
        "id": "eolwsWL_vSwc",
        "outputId": "07ba2f87-893f-4853-e863-2eb378ba5ca5"
      },
      "execution_count": null,
      "outputs": [
        {
          "output_type": "stream",
          "name": "stdout",
          "text": [
            "The brand of the bicycle on the right is **BTWIN**.  BTWIN is a brand of bicycles sold by Decathlon.\n",
            "\n"
          ]
        }
      ]
    },
    {
      "cell_type": "code",
      "source": [],
      "metadata": {
        "id": "Rxzf909FxO4O"
      },
      "execution_count": null,
      "outputs": []
    }
  ]
}