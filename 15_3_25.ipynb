{
  "nbformat": 4,
  "nbformat_minor": 0,
  "metadata": {
    "colab": {
      "provenance": [],
      "authorship_tag": "ABX9TyO8VNMRvaVkzYTGNqjPsGTW",
      "include_colab_link": true
    },
    "kernelspec": {
      "name": "python3",
      "display_name": "Python 3"
    },
    "language_info": {
      "name": "python"
    }
  },
  "cells": [
    {
      "cell_type": "markdown",
      "metadata": {
        "id": "view-in-github",
        "colab_type": "text"
      },
      "source": [
        "<a href=\"https://colab.research.google.com/github/kris0425821/python_list/blob/main/15_3_25.ipynb\" target=\"_parent\"><img src=\"https://colab.research.google.com/assets/colab-badge.svg\" alt=\"Open In Colab\"/></a>"
      ]
    },
    {
      "cell_type": "code",
      "source": [
        "import google.generativeai as genai\n",
        "from google.colab import userdata\n",
        "GOOGLE_API_KEY=userdata.get('GOOGLE_API_KEY')\n",
        "genai.configure(api_key=GOOGLE_API_KEY)"
      ],
      "metadata": {
        "id": "M7D8-k4_gdvG"
      },
      "execution_count": 1,
      "outputs": []
    },
    {
      "cell_type": "code",
      "execution_count": 2,
      "metadata": {
        "colab": {
          "base_uri": "https://localhost:8080/"
        },
        "id": "_GIeD_Fsf7x5",
        "outputId": "d7ab6061-84c5-4945-d89a-ed9776c5874a"
      },
      "outputs": [
        {
          "output_type": "stream",
          "name": "stdout",
          "text": [
            "Collecting PyPDF2\n",
            "  Downloading pypdf2-3.0.1-py3-none-any.whl.metadata (6.8 kB)\n",
            "Downloading pypdf2-3.0.1-py3-none-any.whl (232 kB)\n",
            "\u001b[?25l   \u001b[90m━━━━━━━━━━━━━━━━━━━━━━━━━━━━━━━━━━━━━━━━\u001b[0m \u001b[32m0.0/232.6 kB\u001b[0m \u001b[31m?\u001b[0m eta \u001b[36m-:--:--\u001b[0m\r\u001b[2K   \u001b[91m━━━━━━━━━━━━━━━━━━━━━━━━\u001b[0m\u001b[91m╸\u001b[0m\u001b[90m━━━━━━━━━━━━━━━\u001b[0m \u001b[32m143.4/232.6 kB\u001b[0m \u001b[31m4.0 MB/s\u001b[0m eta \u001b[36m0:00:01\u001b[0m\r\u001b[2K   \u001b[90m━━━━━━━━━━━━━━━━━━━━━━━━━━━━━━━━━━━━━━━━\u001b[0m \u001b[32m232.6/232.6 kB\u001b[0m \u001b[31m3.9 MB/s\u001b[0m eta \u001b[36m0:00:00\u001b[0m\n",
            "\u001b[?25hInstalling collected packages: PyPDF2\n",
            "Successfully installed PyPDF2-3.0.1\n"
          ]
        }
      ],
      "source": [
        "pip install PyPDF2"
      ]
    },
    {
      "cell_type": "code",
      "source": [
        "import PyPDF2\n",
        "def extract_text_from_pdf(pdf_path):\n",
        "    text = \"\"\n",
        "    with open(pdf_path, 'rb') as file:\n",
        "        reader = PyPDF2.PdfReader(file)\n",
        "        for page in reader.pages:\n",
        "            text += page.extract_text()+\"\\n\"\n",
        "    return text"
      ],
      "metadata": {
        "id": "GVwU0c_ng73i"
      },
      "execution_count": 3,
      "outputs": []
    },
    {
      "cell_type": "code",
      "source": [
        "def extract_health_insights(text):\n",
        "  model=genai.GenerativeModel(\"gemini-1.5-flash\")\n",
        "  prompt=f\"Extract insights from the following health report:\\n\\n{text}\"\n",
        "  response=model.generate_content(prompt)\n",
        "  return response.text\n",
        "pdf_file=\"health_report.pdf\"\n",
        "extracted_text=extract_text_from_pdf(pdf_file)\n",
        "insights=extract_health_insights(extracted_text)\n",
        "print(\"key insights:\\n\",insights)"
      ],
      "metadata": {
        "colab": {
          "base_uri": "https://localhost:8080/",
          "height": 471
        },
        "id": "obKZAPxGhOAv",
        "outputId": "ecbdcda1-74e8-4b04-9296-c9dcf8b70873"
      },
      "execution_count": 5,
      "outputs": [
        {
          "output_type": "stream",
          "name": "stdout",
          "text": [
            "key insights:\n",
            " Mr. Kishan Goud's health report (MR Number: MR2100003157, dated 01/02/2021) reveals several key insights:\n",
            "\n",
            "**Infectious Diseases:**\n",
            "\n",
            "* **Widal Test:** Elevated titers for *Salmonella Typhi* \"O\" (1:160) and \"H\" (1:80) suggest a possible past or current infection with typhoid fever.  The reference range is 1:20, so these values are significantly higher.  However, this alone doesn't confirm active typhoid; further investigation might be needed.  The *Salmonella Paratyphi* \"AH\" and \"BH\" titers are within the normal range.\n",
            "* **Dengue Serology:** Negative results for Dengue NS1 antigen, IgG, and IgM antibodies indicate the absence of a current or recent dengue fever infection.\n",
            "* **Malaria:**  Rapid Malaria Test (for *Plasmodium vivax* and *Plasmodium falciparum*) is negative, ruling out malaria.\n",
            "\n",
            "**Hematology:**\n",
            "\n",
            "* **Complete Blood Picture (CBP):**  Most values are within the normal range.  The slightly elevated ESR (26 mm/hr in the first hour, 52 mm/hr in the second) could indicate inflammation, but needs to be considered in the context of other findings.  A slightly lower than average platelet count (2.0 lakhs/cumm) is also noted.\n",
            "* **HbA1c:** 5.4% falls within the normal non-diabetic range (4-6%), suggesting good blood glucose control.\n",
            "\n",
            "**Biochemistry:**\n",
            "\n",
            "* **Liver Function Tests (LFTs):** All liver enzymes (SGOT, SGPT, Alkaline Phosphatase, Bilirubin) are within normal limits, indicating no significant liver damage.\n",
            "* **Serum Creatinine:** 0.8 mg/dl is within the normal range (0.6-1.25 mg/dl), indicating normal kidney function.\n",
            "* **Random Blood Glucose:**  The report doesn't provide the actual value, but it indicates that the method was GOD-POD and the normal range is 60-170 mg/dl. More information is needed to assess blood sugar levels.\n",
            "* **Serum Electrolytes:** Sodium (122 mmol/l) is slightly below the lower limit of the normal range (135-146 mmol/l), while Potassium and Chloride are within the reference ranges.  Low sodium warrants further investigation to determine the cause.\n",
            "\n",
            "**Overall:**\n",
            "\n",
            "The report indicates that Mr. Kishan Goud may have had a past or present *Salmonella Typhi* infection (requiring further evaluation to confirm active infection).  His blood glucose, liver and kidney function appear normal; however, slightly low serum sodium and slightly elevated ESR require further investigation and clinical correlation.  The mildly low platelet count should also be monitored.  The absence of Dengue and Malaria is reassuring.  A comprehensive clinical evaluation by Dr. Krishna Prasad considering all test results is necessary to establish a diagnosis and formulate a treatment plan.\n",
            "\n"
          ]
        }
      ]
    },
    {
      "cell_type": "code",
      "source": [
        "def summarize_health_report(text):\n",
        "  model=genai.GenerativeModel(\"gemini-1.5-flash\")\n",
        "  prompt=f\"summarize the following health report in a concise manner:\\n\\n{text}\"\n",
        "  response=model.generate_content(prompt)\n",
        "  return response.text\n",
        "summary=summarize_health_report(extracted_text)\n",
        "print(\"Summary:\\n\",summary)"
      ],
      "metadata": {
        "colab": {
          "base_uri": "https://localhost:8080/",
          "height": 332
        },
        "id": "3V00f42njHgc",
        "outputId": "10d99b13-ac59-44e6-8436-aacf080bc28d"
      },
      "execution_count": 7,
      "outputs": [
        {
          "output_type": "stream",
          "name": "stdout",
          "text": [
            "Summary:\n",
            " Mr. Kishan Goud's (MR2100003157) blood tests on 01/02/2021 showed:\n",
            "\n",
            "* **Widal Test:** Elevated titers for *Salmonella Typhi* \"O\" (1:160) and \"H\" (1:80), suggesting possible typhoid fever.  Paratyphoid titers were within normal range.\n",
            "* **Dengue Serology:** Negative for NS1 antigen, IgG, and IgM antibodies.\n",
            "* **ESR:** Elevated (26 mm/hr in the first hour, 52 mm/hr in the second), indicating inflammation.\n",
            "* **Malaria Test:** Negative for *Plasmodium falciparum* and *Plasmodium vivax*.\n",
            "* **Complete Blood Picture:**  Hemoglobin, RBC, WBC, and platelets within normal ranges. Differential count also within normal limits.\n",
            "* **HbA1c:** 5.4%, within the normal non-diabetic range.\n",
            "* **Serum Creatinine:** 0.8 mg/dl, within normal range.\n",
            "* **Random Blood Glucose:**  Not reported in the provided text.\n",
            "* **Liver Function Test:** All values within normal ranges.\n",
            "* **Serum Electrolytes:** Sodium slightly low (122 mmol/l), potassium and chloride within normal ranges.\n",
            "\n",
            "\n",
            "**Overall:** The most notable findings are elevated *Salmonella Typhi* titers and an elevated ESR, suggesting a possible typhoid infection.  Further investigation may be warranted.  The slightly low sodium warrants monitoring.\n",
            "\n"
          ]
        }
      ]
    },
    {
      "cell_type": "code",
      "source": [
        "def detect_abnormalities(text):\n",
        "  model=genai.GenerativeModel(\"gemini-1.5-flash\")\n",
        "  prompt=f\"analyze the lab test results in th following health report and highlight any abnormal values:\\n\\n{text}\"\n",
        "  response=model.generate_content(prompt)\n",
        "  return response.text\n",
        "abnormalities=detect_abnormalities(extracted_text)\n",
        "print(\"potential abnormalities\",abnormalities)"
      ],
      "metadata": {
        "colab": {
          "base_uri": "https://localhost:8080/",
          "height": 384
        },
        "id": "_5MhPK3el6dl",
        "outputId": "45f14a97-8982-4711-bebc-cb26870acc49"
      },
      "execution_count": 8,
      "outputs": [
        {
          "output_type": "stream",
          "name": "stdout",
          "text": [
            "potential abnormalities The following values are outside the reference ranges provided in Mr. Kishan Goud's lab report:\n",
            "\n",
            "* **Widal Test:**  S. Typhi \"O\" (1:160) and S. Typhi \"H\" (1:80) are significantly higher than the reference range (1:20).  This suggests a possible past or current infection with *Salmonella Typhi*.  The clinical significance needs to be assessed in the context of the patient's symptoms and other clinical findings.\n",
            "\n",
            "* **ESR (Erythrocyte Sedimentation Rate):** Both the 1st hour (26 mm/hr) and 2nd hour (52 mm/hr) values are elevated above the reference range (0-8 mm/hr for the 1st hour). Elevated ESR indicates inflammation in the body.  The cause needs further investigation.\n",
            "\n",
            "* **Serum Sodium:** 122 mmol/l is below the reference range of 135-146 mmol/l. This indicates hyponatremia (low sodium levels in the blood), which can have various causes and requires further evaluation.\n",
            "\n",
            "* **Serum Chloride:** 97 mmol/l is below the reference range of 98-107 mmol/l.  This is mild hypochloremia (low chloride levels), and like hyponatremia, requires further investigation to determine the cause.\n",
            "\n",
            "\n",
            "**Values within the reference range but warranting consideration:**\n",
            "\n",
            "While the following values are within the reference ranges, they could be relevant depending on the patient's clinical presentation:\n",
            "\n",
            "* **Lymphocytes:** 31% is at the higher end of the normal range (20-40%).  This could be related to an infection but needs further context.\n",
            "\n",
            "\n",
            "**Important Note:** This analysis is based solely on the lab results provided.  A proper medical diagnosis requires a comprehensive evaluation including the patient's medical history, physical examination, and clinical symptoms.  The interpretation and clinical significance of these results should be done by a qualified healthcare professional.\n",
            "\n"
          ]
        }
      ]
    },
    {
      "cell_type": "code",
      "source": [
        "def explain_medical_terms(text):\n",
        "  model=genai.GenerativeModel(\"gemini-1.5-flash\")\n",
        "  prompt=f\"explain th medical terms in the following health report in simple language:\\n\\n{text}\"\n",
        "  response=model.generate_content(prompt)\n",
        "  return response.text\n",
        "explaination=explain_medical_terms(extracted_text)\n",
        "print(\"simplifies explaination:\\n\",explaination)"
      ],
      "metadata": {
        "colab": {
          "base_uri": "https://localhost:8080/",
          "height": 1000
        },
        "id": "c9YaHrKvoQtJ",
        "outputId": "2b13a773-4989-4251-9f6e-57b325330e72"
      },
      "execution_count": 9,
      "outputs": [
        {
          "output_type": "stream",
          "name": "stdout",
          "text": [
            "simplifies explaination:\n",
            " This report shows the results of several blood tests performed on Mr. Kishan Goud.  Let's break down each section:\n",
            "\n",
            "\n",
            "**1. WIDAL Test (for Typhoid):**\n",
            "\n",
            "* **S. Typhi \"O\" 1:160:** This tests for antibodies against the *Salmonella Typhi* bacteria (which causes typhoid fever).  A 1:160 result suggests a *possible* past or present typhoid infection.  The reference range (1:20) is the level considered normal; anything higher suggests exposure.\n",
            "* **S. Typhi \"H\" 1:80:** Similar to above, but tests for a different part of the *Salmonella Typhi* bacteria.  Again, higher than the reference range (1:20).\n",
            "* **S. Paratyphi \"AH\" 1:20:**  Tests for antibodies against *Salmonella Paratyphi* A (another type of Salmonella bacteria that can cause a similar illness).  Within normal range.\n",
            "* **S. Paratyphi \"BH\" 1:20:** Tests for antibodies against *Salmonella Paratyphi* B. Within normal range.\n",
            "\n",
            "**In summary of the Widal test:** The results suggest a *possible* past or present typhoid fever infection (due to the elevated S. Typhi \"O\" and \"H\" titers), but further investigation may be needed to confirm.\n",
            "\n",
            "\n",
            "**2. Dengue Serology (for Dengue Fever):**\n",
            "\n",
            "* **Dengue NS1 Antigen:** Negative. This test detects a protein produced by the dengue virus early in infection.  A negative result means no current dengue virus infection is detected.\n",
            "* **Dengue IgG:** Negative. This tests for antibodies that the body produces *after* a dengue infection (indicates past infection). Negative here indicates no previous dengue infection.\n",
            "* **Dengue IgM:** Negative. This tests for antibodies produced early in a dengue infection (indicates recent infection). Negative indicates no recent dengue infection.\n",
            "\n",
            "**In summary of Dengue Serology:** The patient shows no signs of current or past dengue infection.\n",
            "\n",
            "\n",
            "**3. Erythrocyte Sedimentation Rate (ESR):**\n",
            "\n",
            "* **ESR 1st Hour 26 mm/hr:** This measures how quickly red blood cells settle in a blood sample. An elevated ESR (higher than 8 mm/hr) can indicate inflammation or infection in the body.  26 is significantly elevated.\n",
            "* **ESR 2nd Hour 52 mm/hr:** Further elevation, consistent with inflammation.\n",
            "\n",
            "**In summary of ESR:** This significantly elevated ESR suggests the presence of inflammation somewhere in the body.  Further tests would be needed to pinpoint the cause.\n",
            "\n",
            "\n",
            "**4. Rapid Malaria Test:**\n",
            "\n",
            "* **Rapid Malaria Test P.V:** Negative. Tests for *Plasmodium vivax*, a type of malaria parasite.\n",
            "* **Rapid Malaria Test P.F:** Negative. Tests for *Plasmodium falciparum*, another type of malaria parasite.\n",
            "\n",
            "**In summary of Malaria Test:**  The patient does not have malaria.\n",
            "\n",
            "\n",
            "**5. Complete Blood Picture (CBC):**\n",
            "\n",
            "This provides a comprehensive overview of the blood cells:\n",
            "\n",
            "* **Hemoglobin (Hb):** 13.6 g/dL – Within normal range for males.\n",
            "* **Red Blood Cells (RBC):** 4.3 million/cu mm – Slightly below the lower limit of the normal range but still in a relatively acceptable range.\n",
            "* **White Blood Cells (WBC):** 7,200 cells/cu mm – Within normal range.\n",
            "* **Platelets:** 2.0 lakhs/cu mm (200,000) – Within normal range.\n",
            "* **Packed Cell Volume (PCV):** 40.5% – Within normal range.\n",
            "* **Differential Count:**  Shows the percentages of different types of white blood cells. All values are within normal ranges.\n",
            "* **Peripheral Blood Smear:**  Microscopic examination of the blood showed normal red and white blood cells and adequate platelets.\n",
            "\n",
            "\n",
            "**In summary of CBC:** The CBC shows overall normal blood counts, except for slightly lower than ideal RBC count.\n",
            "\n",
            "\n",
            "**6. HbA1c (for Diabetes):**\n",
            "\n",
            "* **HbA1c:** 5.4% – This indicates excellent blood sugar control.  The value falls well within the normal non-diabetic range.\n",
            "\n",
            "\n",
            "**In summary of HbA1c:** The patient's blood sugar levels are well-controlled, indicating no diabetes.\n",
            "\n",
            "\n",
            "**7. Serum Creatinine (Kidney Function):**\n",
            "\n",
            "* **Serum Creatinine:** 0.8 mg/dL –  Within normal range, indicating normal kidney function.\n",
            "\n",
            "\n",
            "**8. Random Blood Glucose:**\n",
            "\n",
            "* **Random Blood Glucose:** Not provided in the report.  Only the reference range is shown.\n",
            "\n",
            "\n",
            "**9. Liver Function Tests (LFTs):**\n",
            "\n",
            "All liver function tests (bilirubin, alkaline phosphatase, SGOT, SGPT, total protein, albumin, globulin, A/G ratio) are within normal ranges indicating healthy liver function.\n",
            "\n",
            "\n",
            "**10. Serum Electrolytes:**\n",
            "\n",
            "* **Serum Sodium:** 122 mmol/L – Slightly below the normal range; may indicate some electrolyte imbalance, warrants further investigation.\n",
            "* **Serum Potassium:** 3.5 mmol/L – Within the lower limit of the normal range.\n",
            "* **Serum Chloride:** 97 mmol/L – Slightly below the normal range; may indicate some electrolyte imbalance, warrants further investigation.\n",
            "\n",
            "**In summary of Electrolytes:** Sodium and Chloride levels are slightly below normal ranges, potentially indicating an electrolyte imbalance that requires further evaluation.\n",
            "\n",
            "\n",
            "**Overall:**  The tests show some abnormalities, notably the elevated ESR and slightly low sodium and chloride levels.  The Widal test suggests *possible* past or present typhoid fever. The doctor should interpret these results in the context of Mr. Kishan Goud's symptoms and medical history to determine a diagnosis and treatment plan.  The slightly low RBC count should also be followed up.\n",
            "\n"
          ]
        }
      ]
    },
    {
      "cell_type": "code",
      "source": [
        "def ask_gemini_about_report(text,question):\n",
        "  model=genai.GenerativeModel(\"gemini-1.5-flash\")\n",
        "  prompt=f\"the following is a health report:\\n\\n{text}\\n\\nAnswer the following question based on the report:\\n{question}\"\n",
        "  response=model.generate_content(prompt)\n",
        "  return response.text\n",
        "question=\"what is the patients diagnosis\"\n",
        "answer=ask_gemini_about_report(extracted_text,question)\n",
        "print(\"answer:\\n\",answer)"
      ],
      "metadata": {
        "colab": {
          "base_uri": "https://localhost:8080/",
          "height": 89
        },
        "id": "9cNHH9rTp3np",
        "outputId": "3f1fa943-72d1-4411-8db2-b8bfa510f25b"
      },
      "execution_count": 13,
      "outputs": [
        {
          "output_type": "stream",
          "name": "stdout",
          "text": [
            "answer:\n",
            " The provided lab report does not offer a diagnosis.  It shows various test results, some slightly outside the normal range (ESR, Serum Sodium), but these alone cannot determine a diagnosis.  A diagnosis requires clinical evaluation by a physician considering the patient's symptoms, medical history, and these lab results in context.  The elevated ESR could indicate inflammation, but the cause needs further investigation.  The slightly low serum sodium warrants further assessment as well.  The other tests are generally within normal ranges.\n",
            "\n"
          ]
        }
      ]
    },
    {
      "cell_type": "code",
      "source": [],
      "metadata": {
        "id": "Y-Y5X-zCry_S"
      },
      "execution_count": null,
      "outputs": []
    }
  ]
}