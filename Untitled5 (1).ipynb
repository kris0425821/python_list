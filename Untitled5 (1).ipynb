{
 "cells": [
  {
   "cell_type": "code",
   "execution_count": 1,
   "id": "580ab14c-9b1f-41a8-ab31-9726565178b4",
   "metadata": {},
   "outputs": [
    {
     "name": "stdout",
     "output_type": "stream",
     "text": [
      "Requirement already satisfied: requests in c:\\users\\krishna\\anaconda3\\lib\\site-packages (2.32.3)\n",
      "Requirement already satisfied: BeautifulSoup4 in c:\\users\\krishna\\anaconda3\\lib\\site-packages (4.12.3)\n",
      "Requirement already satisfied: charset-normalizer<4,>=2 in c:\\users\\krishna\\anaconda3\\lib\\site-packages (from requests) (3.3.2)\n",
      "Requirement already satisfied: idna<4,>=2.5 in c:\\users\\krishna\\anaconda3\\lib\\site-packages (from requests) (3.7)\n",
      "Requirement already satisfied: urllib3<3,>=1.21.1 in c:\\users\\krishna\\anaconda3\\lib\\site-packages (from requests) (2.2.3)\n",
      "Requirement already satisfied: certifi>=2017.4.17 in c:\\users\\krishna\\anaconda3\\lib\\site-packages (from requests) (2024.12.14)\n",
      "Requirement already satisfied: soupsieve>1.2 in c:\\users\\krishna\\anaconda3\\lib\\site-packages (from BeautifulSoup4) (2.5)\n"
     ]
    }
   ],
   "source": [
    "!pip install requests BeautifulSoup4"
   ]
  },
  {
   "cell_type": "code",
   "execution_count": 5,
   "id": "d4d8e243-d782-490f-b37c-5e0e6e324cc0",
   "metadata": {},
   "outputs": [],
   "source": [
    "import requests \n",
    "from bs4 import BeautifulSoup\n",
    "url=\"https://quotes.toscrape.com/\"\n",
    "response=requests.get(url)"
   ]
  },
  {
   "cell_type": "code",
   "execution_count": 7,
   "id": "c9966190-0aee-4e57-9b3d-c6258bcad2da",
   "metadata": {},
   "outputs": [
    {
     "ename": "SyntaxError",
     "evalue": "invalid syntax (3007147590.py, line 10)",
     "output_type": "error",
     "traceback": [
      "\u001b[1;36m  Cell \u001b[1;32mIn[7], line 10\u001b[1;36m\u001b[0m\n\u001b[1;33m    else:\u001b[0m\n\u001b[1;37m    ^\u001b[0m\n\u001b[1;31mSyntaxError\u001b[0m\u001b[1;31m:\u001b[0m invalid syntax\n"
     ]
    }
   ],
   "source": [
    "if response.status_code==200:\n",
    "    soup=BeautifulSoup(response.text,'html.parser')\n",
    "    quotes=soup.find_all('div',class_='quote')\n",
    "    for i, quote in enumerate(quotes[:5]):\n",
    "      text=quotes.find('span',class_='text').text\n",
    "      author=quotes.find('small',class_='author').text\n",
    "      tags=[tag.text for tag in quotes.find_all('a',class_='tag')]\n",
    "      print(f\"{i+1}.\\\"{text}\\\"-{author}\")\n",
    "      print(f\"Tags:{','.join(tags)}\\n\")\n",
    "      else:\n",
    "        print(f\"failed to retreive the webpage.status code:{response.status_code}\")"
   ]
  },
  {
   "cell_type": "code",
   "execution_count": 9,
   "id": "6c247fc5-c74c-432c-acf3-83e68be03a80",
   "metadata": {},
   "outputs": [
    {
     "name": "stdout",
     "output_type": "stream",
     "text": [
      "Current weather in india/hyderabad: N/A | Login\n"
     ]
    }
   ],
   "source": [
    "import requests\n",
    "from bs4 import BeautifulSoup\n",
    "city=\"india/hyderabad\"\n",
    "url=\"https://quotes.toscrape.com/\"\n",
    "response=requests.get(url)\n",
    "soup=BeautifulSoup(response.text,'html.parser')\n",
    "temp=soup.find(\"div\",class_=\"h2\").text.strip() if soup.find(\"div\",class_=\"h2\") else \"N/A\"\n",
    "desc=soup.find(\"p\").text.strip() if soup.find(\"p\") else \"N/A\"\n",
    "print(f\"Current weather in {city}: {temp} | {desc}\")"
   ]
  },
  {
   "cell_type": "code",
   "execution_count": 11,
   "id": "96def71e-90e9-4ddb-b9ec-a9a222da1d0c",
   "metadata": {},
   "outputs": [
    {
     "name": "stdout",
     "output_type": "stream",
     "text": [
      "Product:Life is easier on iPhone.\n",
      "Price:Rs.61,499\n"
     ]
    }
   ],
   "source": [
    "import requests\n",
    "from bs4 import BeautifulSoup\n",
    "search_url=\"https://www.amazon.in/s?k=iphone&crid=PQVCJSNISAH4&sprefix=iphone%2Caps%2C233&ref=nb_sb_noss_2s\"\n",
    "headers={\"User-Agent\":\"Mozilla/5.0 (Windows NT 10.0; Win64; x64) AppleWebKit/537.36 (KHTML, like Gecko) Chrome/114.0.0.0 Safari/537.36\"}\n",
    "response=requests.get(search_url,headers=headers)\n",
    "soup=BeautifulSoup(response.text,'html.parser')\n",
    "product=soup.select_one(\"span.a-size-medium\")\n",
    "price=soup.select_one(\"span.a-price-whole\")\n",
    "if product and price:\n",
    "  print(f\"Product:{product.text.strip()}\")\n",
    "  print(f\"Price:Rs.{price.text.strip()}\")\n",
    "else:\n",
    "  print(\"could not find product details\")"
   ]
  },
  {
   "cell_type": "code",
   "execution_count": 17,
   "id": "936caf22-a474-4fba-883c-a610cd95e828",
   "metadata": {},
   "outputs": [
    {
     "name": "stdout",
     "output_type": "stream",
     "text": [
      "World:8,119,000,000\n",
      "China:1,408,280,000\n",
      "1,402,737,000:17.2%\n",
      "United States:340,110,988\n",
      "Indonesia:282,477,584\n"
     ]
    }
   ],
   "source": [
    "import requests\n",
    "from bs4 import BeautifulSoup\n",
    "url=\"https://en.wikipedia.org/wiki/List_of_countries_and_dependencies_by_population\"\n",
    "response=requests.get(url,headers=headers)\n",
    "soup=BeautifulSoup(response.text,\"html.parser\")\n",
    "table=soup.find(\"table\",class_=\"wikitable\")\n",
    "for row in table.find_all(\"tr\")[1:6]:\n",
    "    columns=row.find_all(\"td\")\n",
    "    country=columns[1].text.strip()\n",
    "    population=columns[2].text.strip()\n",
    "    print(f\"{country}:{population}\")"
   ]
  },
  {
   "cell_type": "code",
   "execution_count": 20,
   "id": "a2a7d645-2575-4171-95d7-5f32524553fc",
   "metadata": {},
   "outputs": [],
   "source": [
    "from IPython.display import display,HTML"
   ]
  },
  {
   "cell_type": "code",
   "execution_count": null,
   "id": "39bea7b7-63e2-42d1-813f-6dc0be4056e4",
   "metadata": {},
   "outputs": [],
   "source": [
    "display(HTML(\"\"\"\n",
    "        <p style=\"font-family:verdana\"> this is a sample table</p>\n",
    "        <table>\n",
    "        <tr>\n",
    "        <th>company</th>\n",
    "        <th>contact</th>\n",
    "        <th>country</th>\n",
    "        </tr>\n",
    "        <tr>\n",
    "        <td>Alfreds Futterskie</td>\n",
    "        <td>Maria Anders</td>\n",
    "        <td>Germany</td>\n",
    "        </tr>\n",
    "        <tr>\n",
    "        <td>centro commercial</td>"
   ]
  }
 ],
 "metadata": {
  "kernelspec": {
   "display_name": "Python 3 (ipykernel)",
   "language": "python",
   "name": "python3"
  },
  "language_info": {
   "codemirror_mode": {
    "name": "ipython",
    "version": 3
   },
   "file_extension": ".py",
   "mimetype": "text/x-python",
   "name": "python",
   "nbconvert_exporter": "python",
   "pygments_lexer": "ipython3",
   "version": "3.12.7"
  }
 },
 "nbformat": 4,
 "nbformat_minor": 5
}
